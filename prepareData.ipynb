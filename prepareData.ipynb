{
 "cells": [
  {
   "cell_type": "markdown",
   "metadata": {},
   "source": [
    "\n",
    "# Data extraction with librosa"
   ]
  },
  {
   "cell_type": "code",
   "execution_count": 1,
   "metadata": {},
   "outputs": [],
   "source": [
    "import librosa\n",
    "import librosa.display\n",
    "import IPython.display as ipd\n",
    "import matplotlib.pyplot as plt\n",
    "import numpy as np\n",
    "from os import listdir\n",
    "from os.path import isfile,join\n",
    "from os import walk\n",
    "import pandas as pd\n",
    "from sklearn import preprocessing\n",
    "import scipy\n",
    "import python_speech_features as psf\n",
    "from scipy.io.wavfile import read"
   ]
  },
  {
   "cell_type": "markdown",
   "metadata": {},
   "source": [
    "[librosa default conf](https://librosa.org/doc/0.9.1/generated/librosa.feature.mfcc.html?highlight=mfcc)\n",
    "(uses [melspectrogram](https://librosa.org/doc/0.9.1/_modules/librosa/feature/spectral.html#melspectrogram), [dct](https://docs.scipy.org/doc/scipy/reference/generated/scipy.fftpack.dct.html#scipy.fftpack.dct))\n",
    "\n",
    "win_length = taki sam jak n_fft. Jak podam inny win_length to i tak robi padding zerami tak żeby pasowało do n_fft\n",
    "\n",
    "n_fft = 2048\n",
    "\n",
    "hop_length = 512\n",
    "\n",
    "window => [getWindow](https://librosa.org/doc/main/generated/librosa.filters.get_window.html) => [hann](https://docs.scipy.org/doc/scipy/reference/generated/scipy.signal.windows.hann.html#scipy.signal.windows.hann), generalnie przyjmuje wszystkie paramsy okien ze scipy\n"
   ]
  },
  {
   "cell_type": "code",
   "execution_count": 3,
   "metadata": {},
   "outputs": [],
   "source": [
    "def readFiles(useLibrosa = True):\n",
    "    signals= []\n",
    "    for path, subdirs, files in walk(\"samples\"):\n",
    "        for name in files:\n",
    "            if useLibrosa:\n",
    "                signal, sampling_rate = librosa.load(path + \"/\" + name, sr=1600) #uses default SR\n",
    "            else: \n",
    "                sampling_rate,signal = scipy.io.wavfile.read(path + \"/\" + name)\n",
    "            signals.append({\n",
    "                \"name\":name,\n",
    "                \"signal\": signal,\n",
    "                \"sr\": sampling_rate,\n",
    "                \"label\": name[:2].upper()\n",
    "            })\n",
    "    return signals\n",
    "\n",
    "def padWithZeros(signals):\n",
    "    longest_sample = max(list(map(lambda element: element[\"signal\"].shape[0], signals)))\n",
    "    for entry in signals:\n",
    "        entry[\"signal\"] = np.append(entry[\"signal\"], np.zeros(longest_sample - entry[\"signal\"].shape[0]))\n",
    "    return signals\n",
    "\n",
    "def encodedLabels(signals):\n",
    "    labels = list(map(lambda element: element[\"label\"],signals))\n",
    "    le = preprocessing.LabelEncoder()\n",
    "    le.fit(labels)\n",
    "    for entry in signals:\n",
    "        entry[\"encodedLabel\"] = le.transform([entry[\"label\"]])[0]\n",
    "    return signals, le\n",
    "\n",
    "def get_psf_mfcc(y, sr, window=scipy.signal.windows.hann, n_fft = 2048, win_length = None, n_mfcc=13, hop_length=512):\n",
    "    if not win_length:\n",
    "        win_length = 0.025\n",
    "    if not hop_length:\n",
    "        hop_length = 0.01\n",
    "    return psf.mfcc(signal = y,\n",
    "                   samplerate= sr,\n",
    "                   winlen = win_length/sr,\n",
    "                   winfunc = window,\n",
    "                   numcep = n_mfcc,\n",
    "                    winstep = hop_length/sr,\n",
    "                    nfft=n_fft\n",
    "                   )\n",
    "\n",
    "def calcMfccs(signals, window=scipy.signal.windows.hann, n_fft = 2048, hop_length = 512, win_length = None, n_mfcc= 13, useLibrosa = True):\n",
    "    for entry in signals:\n",
    "        if useLibrosa:\n",
    "            mfccs = librosa.feature.mfcc(y=entry[\"signal\"], n_mfcc=n_mfcc, sr=entry[\"sr\"],\n",
    "                                        window = window,\n",
    "                                        n_fft= n_fft,\n",
    "                                        hop_length = hop_length,\n",
    "                                        win_length = win_length)\n",
    "        else: \n",
    "            mfccs = get_psf_mfcc(y=entry[\"signal\"],sr = entry[\"sr\"], n_mfcc = n_mfcc, hop_length = hop_length, n_fft= n_fft, win_length = win_length)\n",
    "        entry[\"mfccs\"] = mfccs\n",
    "        entry[\"delta\"] = librosa.feature.delta(mfccs)\n",
    "        entry[\"delta2\"] = librosa.feature.delta(mfccs, order=2)\n",
    "    return signals"
   ]
  },
  {
   "cell_type": "code",
   "execution_count": 4,
   "metadata": {},
   "outputs": [],
   "source": [
    "signals, labelEncoder = encodedLabels(padWithZeros(readFiles()))"
   ]
  },
  {
   "cell_type": "code",
   "execution_count": 5,
   "metadata": {},
   "outputs": [],
   "source": [
    "signals = calcMfccs(signals)"
   ]
  },
  {
   "cell_type": "code",
   "execution_count": null,
   "metadata": {},
   "outputs": [],
   "source": [
    "#come in handy block\n",
    "\n",
    "plt.figure(figsize=(25,10))\n",
    "librosa.display.specshow(signals[0][\"mfccs\"], x_axis=\"time\", sr=signals[0][\"sr\"])\n",
    "plt.colorbar(format=\"%+2f\")\n",
    "plt.show()\n",
    "\n",
    "# np.concatenate((mfccs, delta_mfccs, delta2_mfccs))"
   ]
  },
  {
   "cell_type": "code",
   "execution_count": 14,
   "metadata": {},
   "outputs": [
    {
     "data": {
      "text/plain": [
       "16000"
      ]
     },
     "execution_count": 14,
     "metadata": {},
     "output_type": "execute_result"
    }
   ],
   "source": [
    "#output:\n",
    "#signals[0].keys()\n",
    "signals[0][\"sr\"]"
   ]
  },
  {
   "cell_type": "code",
   "execution_count": 23,
   "metadata": {},
   "outputs": [
    {
     "name": "stderr",
     "output_type": "stream",
     "text": [
      "<ipython-input-22-fcf433cd27ee>:8: WavFileWarning: Chunk (non-data) not understood, skipping it.\n",
      "  sampling_rate,signal = scipy.io.wavfile.read(path + \"/\" + name)\n"
     ]
    }
   ],
   "source": [
    "psf_signals, psf_labelEncoder = encodedLabels(padWithZeros(readFiles(False)))\n",
    "psf_signals = calcMfccs(psf_signals, useLibrosa=False)"
   ]
  },
  {
   "cell_type": "markdown",
   "metadata": {},
   "source": [
    "--------\n",
    "# Feature extraction with python_speech_features"
   ]
  },
  {
   "cell_type": "code",
   "execution_count": 1,
   "metadata": {},
   "outputs": [],
   "source": [
    "#0.025s * 16000 sample rate = 400 samples"
   ]
  },
  {
   "cell_type": "code",
   "execution_count": 6,
   "metadata": {},
   "outputs": [],
   "source": [
    "def export_to_pickle(filename, data):\n",
    "    import pickle\n",
    "    with open(filename+'.pickle', 'wb') as f:\n",
    "        pickle.dump(data, f)"
   ]
  },
  {
   "cell_type": "code",
   "execution_count": 7,
   "metadata": {},
   "outputs": [],
   "source": [
    "export_to_pickle(\"librosa_signals\", signals)\n",
    "export_to_pickle(\"labelEncoder\",labelEncoder)"
   ]
  },
  {
   "cell_type": "code",
   "execution_count": 31,
   "metadata": {},
   "outputs": [],
   "source": [
    "export_to_pickle(\"psf_signals\", psf_signals)\n",
    "export_to_pickle('psf_le', psf_labelEncoder)\n",
    "export_to_pickle(\"librosa_signals\", signals)\n",
    "export_to_pickle(\"labelEncoder\",labelEncoder)"
   ]
  }
 ],
 "metadata": {
  "kernelspec": {
   "display_name": "Python 3 (ipykernel)",
   "language": "python",
   "name": "python3"
  },
  "language_info": {
   "codemirror_mode": {
    "name": "ipython",
    "version": 3
   },
   "file_extension": ".py",
   "mimetype": "text/x-python",
   "name": "python",
   "nbconvert_exporter": "python",
   "pygments_lexer": "ipython3",
   "version": "3.9.7"
  }
 },
 "nbformat": 4,
 "nbformat_minor": 4
}
