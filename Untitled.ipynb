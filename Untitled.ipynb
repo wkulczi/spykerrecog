{
 "cells": [
  {
   "cell_type": "markdown",
   "metadata": {},
   "source": [
    "# CNN librosa"
   ]
  },
  {
   "cell_type": "code",
   "execution_count": 1,
   "metadata": {},
   "outputs": [],
   "source": [
    "import numpy as np\n",
    "import pandas as pd\n",
    "from sklearn.model_selection import train_test_split\n",
    "\n",
    "from tensorflow import keras"
   ]
  },
  {
   "cell_type": "code",
   "execution_count": 2,
   "metadata": {},
   "outputs": [],
   "source": [
    "def unpickle(filename):\n",
    "    import pickle\n",
    "    with open(filename, 'rb') as fp:\n",
    "        banana = pickle.load(fp)\n",
    "    return banana"
   ]
  },
  {
   "cell_type": "code",
   "execution_count": 3,
   "metadata": {},
   "outputs": [],
   "source": [
    "def getXy(signals, mfcconly=False):\n",
    "    X = []\n",
    "    y = []\n",
    "    for element in signals:\n",
    "        if mfcconly:\n",
    "            X.append(element[\"mfccs\"])\n",
    "        else:\n",
    "            X.append(np.concatenate((element[\"mfccs\"], element[\"delta\"], element[\"delta2\"])).T)\n",
    "        y.append(element[\"encodedLabel\"])\n",
    "    return np.array(X), np.array(y)\n",
    "        \n",
    "\n",
    "def get_data_splits(signals, test_size = 0.1, validation_size = 0.2, mfcconly=False):\n",
    "    X,y = getXy(signals, mfcconly)\n",
    "    \n",
    "    X_train, X_test, y_train, y_test = train_test_split(X, y, test_size=test_size)\n",
    "    X_train, X_validation, y_train, y_validation = train_test_split(X_train, y_train, test_size=validation_size)\n",
    "    \n",
    "    X_train = X_train[..., np.newaxis]\n",
    "    X_validation = X_validation[..., np.newaxis]\n",
    "    X_test = X_test[..., np.newaxis]\n",
    "    \n",
    "    return X_train, X_validation, X_test, y_train, y_validation, y_test"
   ]
  },
  {
   "cell_type": "markdown",
   "metadata": {},
   "source": [
    "![img](https://miro.medium.com/max/486/1*jgWOhDiGjVp-NCSPa5abmg.png)\n",
    "\n",
    "L2 - Ridge regression"
   ]
  },
  {
   "cell_type": "code",
   "execution_count": 26,
   "metadata": {},
   "outputs": [],
   "source": [
    "def build_tf_model(input_shape, learning_rate, num_speakers, error=\"sparse_categorical_crossentropy\"):\n",
    "    model = keras.Sequential()\n",
    "    \n",
    "    #convolution layer 1\n",
    "    model.add(keras.layers.Conv2D(64, (3,3), activation=\"relu\", input_shape=input_shape, kernel_regularizer=keras.regularizers.l2(0.001)))\n",
    "    model.add(keras.layers.BatchNormalization())\n",
    "    model.add(keras.layers.MaxPool2D((3,3), strides=(2,2), padding=\"same\"))\n",
    "    \n",
    "    #clayer 2\n",
    "    model.add(keras.layers.Conv2D(32, (3,3), activation=\"relu\", kernel_regularizer=keras.regularizers.l2(0.001)))\n",
    "    model.add(keras.layers.BatchNormalization())\n",
    "    model.add(keras.layers.MaxPool2D((3,3), strides=(2,2), padding=\"same\"))\n",
    "    \n",
    "    #clayer 3\n",
    "    model.add(keras.layers.Conv2D(32, (2,2), activation=\"relu\", kernel_regularizer=keras.regularizers.l2(0.001)))\n",
    "    model.add(keras.layers.BatchNormalization())\n",
    "    model.add(keras.layers.MaxPool2D((2,2), strides=(2,2), padding=\"same\"))\n",
    "    \n",
    "    #flatten -> feed to dense layer\n",
    "    model.add(keras.layers.Flatten())\n",
    "    model.add(keras.layers.Dense(64, activation=\"relu\"))\n",
    "    model.add(keras.layers.Dropout(0.3))\n",
    "    \n",
    "    #softmax\n",
    "    model.add(keras.layers.Dense(num_speakers, activation=\"softmax\"))\n",
    "    \n",
    "    optimizer = keras.optimizers.Adam(learning_rate=learning_rate)\n",
    "    \n",
    "    model.compile(optimizer = optimizer, loss=error, metrics=[\"accuracy\"])\n",
    "    \n",
    "    \n",
    "    model.summary()\n",
    "    \n",
    "    return model"
   ]
  },
  {
   "cell_type": "code",
   "execution_count": 4,
   "metadata": {},
   "outputs": [],
   "source": [
    "#global vars\n",
    "LR = 0.0001\n",
    "BATCH_SIZE=32\n",
    "EPOCHS=80\n",
    "\n",
    "#load data from pickles\n",
    "librosa_signals = unpickle(\"librosa_signals.pickle\")\n",
    "labelEncoder = unpickle(\"labelEncoder.pickle\")\n"
   ]
  },
  {
   "cell_type": "code",
   "execution_count": 11,
   "metadata": {},
   "outputs": [
    {
     "data": {
      "text/plain": [
       "(80, 232, 39, 1)"
      ]
     },
     "execution_count": 11,
     "metadata": {},
     "output_type": "execute_result"
    }
   ],
   "source": [
    "X_train.shape"
   ]
  },
  {
   "cell_type": "code",
   "execution_count": 32,
   "metadata": {},
   "outputs": [
    {
     "name": "stdout",
     "output_type": "stream",
     "text": [
      "Model: \"sequential_7\"\n",
      "_________________________________________________________________\n",
      " Layer (type)                Output Shape              Param #   \n",
      "=================================================================\n",
      " conv2d_19 (Conv2D)          (None, 230, 37, 64)       640       \n",
      "                                                                 \n",
      " batch_normalization_19 (Bat  (None, 230, 37, 64)      256       \n",
      " chNormalization)                                                \n",
      "                                                                 \n",
      " max_pooling2d_19 (MaxPoolin  (None, 115, 19, 64)      0         \n",
      " g2D)                                                            \n",
      "                                                                 \n",
      " conv2d_20 (Conv2D)          (None, 113, 17, 32)       18464     \n",
      "                                                                 \n",
      " batch_normalization_20 (Bat  (None, 113, 17, 32)      128       \n",
      " chNormalization)                                                \n",
      "                                                                 \n",
      " max_pooling2d_20 (MaxPoolin  (None, 57, 9, 32)        0         \n",
      " g2D)                                                            \n",
      "                                                                 \n",
      " conv2d_21 (Conv2D)          (None, 56, 8, 32)         4128      \n",
      "                                                                 \n",
      " batch_normalization_21 (Bat  (None, 56, 8, 32)        128       \n",
      " chNormalization)                                                \n",
      "                                                                 \n",
      " max_pooling2d_21 (MaxPoolin  (None, 28, 4, 32)        0         \n",
      " g2D)                                                            \n",
      "                                                                 \n",
      " flatten_6 (Flatten)         (None, 3584)              0         \n",
      "                                                                 \n",
      " dense_12 (Dense)            (None, 64)                229440    \n",
      "                                                                 \n",
      " dropout_6 (Dropout)         (None, 64)                0         \n",
      "                                                                 \n",
      " dense_13 (Dense)            (None, 11)                715       \n",
      "                                                                 \n",
      "=================================================================\n",
      "Total params: 253,899\n",
      "Trainable params: 253,643\n",
      "Non-trainable params: 256\n",
      "_________________________________________________________________\n",
      "Epoch 1/80\n",
      "3/3 [==============================] - 1s 257ms/step - loss: 3.8656 - accuracy: 0.0875 - val_loss: 6.0568 - val_accuracy: 0.0000e+00\n",
      "Epoch 2/80\n",
      "3/3 [==============================] - 1s 253ms/step - loss: 2.8425 - accuracy: 0.1250 - val_loss: 4.6070 - val_accuracy: 0.0000e+00\n",
      "Epoch 3/80\n",
      "3/3 [==============================] - 1s 212ms/step - loss: 2.3575 - accuracy: 0.2375 - val_loss: 3.9426 - val_accuracy: 0.0000e+00\n",
      "Epoch 4/80\n",
      "3/3 [==============================] - 1s 202ms/step - loss: 1.8436 - accuracy: 0.4125 - val_loss: 3.5697 - val_accuracy: 0.0000e+00\n",
      "Epoch 5/80\n",
      "3/3 [==============================] - 1s 216ms/step - loss: 1.7411 - accuracy: 0.4375 - val_loss: 3.2980 - val_accuracy: 0.1000\n",
      "Epoch 6/80\n",
      "3/3 [==============================] - 1s 231ms/step - loss: 1.6064 - accuracy: 0.4750 - val_loss: 3.1004 - val_accuracy: 0.1000\n",
      "Epoch 7/80\n",
      "3/3 [==============================] - 1s 226ms/step - loss: 1.4789 - accuracy: 0.5750 - val_loss: 2.9619 - val_accuracy: 0.1000\n",
      "Epoch 8/80\n",
      "3/3 [==============================] - 1s 240ms/step - loss: 1.3025 - accuracy: 0.6625 - val_loss: 2.8329 - val_accuracy: 0.1000\n",
      "Epoch 9/80\n",
      "3/3 [==============================] - 1s 210ms/step - loss: 1.3252 - accuracy: 0.6125 - val_loss: 2.7028 - val_accuracy: 0.1000\n",
      "Epoch 10/80\n",
      "3/3 [==============================] - 1s 219ms/step - loss: 1.2139 - accuracy: 0.6375 - val_loss: 2.5897 - val_accuracy: 0.1500\n",
      "Epoch 11/80\n",
      "3/3 [==============================] - 1s 212ms/step - loss: 1.0636 - accuracy: 0.7375 - val_loss: 2.5128 - val_accuracy: 0.1500\n",
      "Epoch 12/80\n",
      "3/3 [==============================] - 1s 212ms/step - loss: 0.9910 - accuracy: 0.7875 - val_loss: 2.4816 - val_accuracy: 0.2500\n",
      "Epoch 13/80\n",
      "3/3 [==============================] - 1s 206ms/step - loss: 0.9142 - accuracy: 0.8000 - val_loss: 2.4450 - val_accuracy: 0.2500\n",
      "Epoch 14/80\n",
      "3/3 [==============================] - 1s 201ms/step - loss: 0.8741 - accuracy: 0.8125 - val_loss: 2.4012 - val_accuracy: 0.2500\n",
      "Epoch 15/80\n",
      "3/3 [==============================] - 1s 215ms/step - loss: 0.7681 - accuracy: 0.8250 - val_loss: 2.3523 - val_accuracy: 0.2500\n",
      "Epoch 16/80\n",
      "3/3 [==============================] - 1s 206ms/step - loss: 0.7154 - accuracy: 0.8875 - val_loss: 2.2799 - val_accuracy: 0.3000\n",
      "Epoch 17/80\n",
      "3/3 [==============================] - 1s 207ms/step - loss: 0.6253 - accuracy: 0.8375 - val_loss: 2.2080 - val_accuracy: 0.3000\n",
      "Epoch 18/80\n",
      "3/3 [==============================] - 1s 208ms/step - loss: 0.5385 - accuracy: 0.9125 - val_loss: 2.1376 - val_accuracy: 0.3000\n",
      "Epoch 19/80\n",
      "3/3 [==============================] - 1s 224ms/step - loss: 0.5523 - accuracy: 0.8625 - val_loss: 2.0828 - val_accuracy: 0.3000\n",
      "Epoch 20/80\n",
      "3/3 [==============================] - 1s 227ms/step - loss: 0.6400 - accuracy: 0.8250 - val_loss: 2.0443 - val_accuracy: 0.3000\n",
      "Epoch 21/80\n",
      "3/3 [==============================] - 1s 209ms/step - loss: 0.5909 - accuracy: 0.8750 - val_loss: 2.0268 - val_accuracy: 0.3000\n",
      "Epoch 22/80\n",
      "3/3 [==============================] - 1s 208ms/step - loss: 0.4362 - accuracy: 0.9375 - val_loss: 1.9966 - val_accuracy: 0.3000\n",
      "Epoch 23/80\n",
      "3/3 [==============================] - 1s 218ms/step - loss: 0.3389 - accuracy: 0.9625 - val_loss: 1.9649 - val_accuracy: 0.3000\n",
      "Epoch 24/80\n",
      "3/3 [==============================] - 1s 208ms/step - loss: 0.3861 - accuracy: 0.9500 - val_loss: 1.9078 - val_accuracy: 0.3000\n",
      "Epoch 25/80\n",
      "3/3 [==============================] - 1s 211ms/step - loss: 0.3768 - accuracy: 0.9750 - val_loss: 1.8421 - val_accuracy: 0.3000\n",
      "Epoch 26/80\n",
      "3/3 [==============================] - 1s 208ms/step - loss: 0.3462 - accuracy: 0.9250 - val_loss: 1.7673 - val_accuracy: 0.5000\n",
      "Epoch 27/80\n",
      "3/3 [==============================] - 1s 222ms/step - loss: 0.3531 - accuracy: 0.9625 - val_loss: 1.7289 - val_accuracy: 0.5500\n",
      "Epoch 28/80\n",
      "3/3 [==============================] - 1s 209ms/step - loss: 0.3497 - accuracy: 0.9500 - val_loss: 1.6829 - val_accuracy: 0.5000\n",
      "Epoch 29/80\n",
      "3/3 [==============================] - 1s 214ms/step - loss: 0.3055 - accuracy: 0.9375 - val_loss: 1.6518 - val_accuracy: 0.5500\n",
      "Epoch 30/80\n",
      "3/3 [==============================] - 1s 214ms/step - loss: 0.3349 - accuracy: 0.9625 - val_loss: 1.6396 - val_accuracy: 0.6000\n",
      "Epoch 31/80\n",
      "3/3 [==============================] - 1s 218ms/step - loss: 0.3662 - accuracy: 0.9375 - val_loss: 1.6392 - val_accuracy: 0.6000\n",
      "Epoch 32/80\n",
      "3/3 [==============================] - 1s 218ms/step - loss: 0.2947 - accuracy: 0.9375 - val_loss: 1.6399 - val_accuracy: 0.6000\n",
      "Epoch 33/80\n",
      "3/3 [==============================] - 1s 209ms/step - loss: 0.3420 - accuracy: 0.9125 - val_loss: 1.6193 - val_accuracy: 0.6000\n",
      "Epoch 34/80\n",
      "3/3 [==============================] - 1s 217ms/step - loss: 0.2700 - accuracy: 0.9750 - val_loss: 1.5830 - val_accuracy: 0.6000\n",
      "Epoch 35/80\n",
      "3/3 [==============================] - 1s 237ms/step - loss: 0.2412 - accuracy: 0.9625 - val_loss: 1.5450 - val_accuracy: 0.6000\n",
      "Epoch 36/80\n",
      "3/3 [==============================] - 1s 247ms/step - loss: 0.2035 - accuracy: 1.0000 - val_loss: 1.5024 - val_accuracy: 0.6500\n",
      "Epoch 37/80\n",
      "3/3 [==============================] - 1s 237ms/step - loss: 0.2631 - accuracy: 0.9500 - val_loss: 1.4622 - val_accuracy: 0.7500\n",
      "Epoch 38/80\n",
      "3/3 [==============================] - 1s 249ms/step - loss: 0.2613 - accuracy: 0.9625 - val_loss: 1.4282 - val_accuracy: 0.7500\n",
      "Epoch 39/80\n",
      "3/3 [==============================] - 1s 216ms/step - loss: 0.2078 - accuracy: 0.9875 - val_loss: 1.3950 - val_accuracy: 0.7000\n",
      "Epoch 40/80\n",
      "3/3 [==============================] - 1s 206ms/step - loss: 0.2233 - accuracy: 0.9750 - val_loss: 1.3686 - val_accuracy: 0.7500\n",
      "Epoch 41/80\n",
      "3/3 [==============================] - 1s 242ms/step - loss: 0.1936 - accuracy: 1.0000 - val_loss: 1.3267 - val_accuracy: 0.8000\n",
      "Epoch 42/80\n",
      "3/3 [==============================] - 1s 233ms/step - loss: 0.2490 - accuracy: 0.9750 - val_loss: 1.3079 - val_accuracy: 0.8000\n",
      "Epoch 43/80\n",
      "3/3 [==============================] - 1s 228ms/step - loss: 0.2107 - accuracy: 0.9750 - val_loss: 1.3018 - val_accuracy: 0.8000\n",
      "Epoch 44/80\n",
      "3/3 [==============================] - 1s 244ms/step - loss: 0.1749 - accuracy: 0.9875 - val_loss: 1.2907 - val_accuracy: 0.7500\n",
      "Epoch 45/80\n",
      "3/3 [==============================] - 1s 222ms/step - loss: 0.1996 - accuracy: 0.9625 - val_loss: 1.2708 - val_accuracy: 0.7500\n",
      "Epoch 46/80\n",
      "3/3 [==============================] - 1s 214ms/step - loss: 0.1911 - accuracy: 0.9875 - val_loss: 1.2615 - val_accuracy: 0.7500\n",
      "Epoch 47/80\n",
      "3/3 [==============================] - 1s 228ms/step - loss: 0.1815 - accuracy: 0.9875 - val_loss: 1.2517 - val_accuracy: 0.7500\n",
      "Epoch 48/80\n",
      "3/3 [==============================] - 1s 219ms/step - loss: 0.1465 - accuracy: 1.0000 - val_loss: 1.2335 - val_accuracy: 0.7500\n",
      "Epoch 49/80\n",
      "3/3 [==============================] - 1s 215ms/step - loss: 0.1649 - accuracy: 0.9875 - val_loss: 1.1993 - val_accuracy: 0.7500\n",
      "Epoch 50/80\n",
      "3/3 [==============================] - 1s 222ms/step - loss: 0.1655 - accuracy: 1.0000 - val_loss: 1.1620 - val_accuracy: 0.7500\n",
      "Epoch 51/80\n",
      "3/3 [==============================] - 1s 217ms/step - loss: 0.1941 - accuracy: 0.9875 - val_loss: 1.1383 - val_accuracy: 0.7500\n",
      "Epoch 52/80\n",
      "3/3 [==============================] - 1s 221ms/step - loss: 0.1880 - accuracy: 0.9750 - val_loss: 1.1293 - val_accuracy: 0.8000\n",
      "Epoch 53/80\n",
      "3/3 [==============================] - 1s 223ms/step - loss: 0.1522 - accuracy: 0.9875 - val_loss: 1.1112 - val_accuracy: 0.8000\n",
      "Epoch 54/80\n",
      "3/3 [==============================] - 1s 221ms/step - loss: 0.1223 - accuracy: 1.0000 - val_loss: 1.0843 - val_accuracy: 0.8000\n",
      "Epoch 55/80\n",
      "3/3 [==============================] - 1s 217ms/step - loss: 0.1838 - accuracy: 0.9875 - val_loss: 1.0502 - val_accuracy: 0.8000\n",
      "Epoch 56/80\n",
      "3/3 [==============================] - 1s 218ms/step - loss: 0.1240 - accuracy: 1.0000 - val_loss: 1.0030 - val_accuracy: 0.8000\n",
      "Epoch 57/80\n",
      "3/3 [==============================] - 1s 231ms/step - loss: 0.1309 - accuracy: 1.0000 - val_loss: 0.9637 - val_accuracy: 0.8000\n",
      "Epoch 58/80\n",
      "3/3 [==============================] - 1s 218ms/step - loss: 0.1336 - accuracy: 1.0000 - val_loss: 0.9282 - val_accuracy: 0.8000\n",
      "Epoch 59/80\n",
      "3/3 [==============================] - 1s 232ms/step - loss: 0.1890 - accuracy: 0.9625 - val_loss: 0.9014 - val_accuracy: 0.8000\n",
      "Epoch 60/80\n",
      "3/3 [==============================] - 1s 213ms/step - loss: 0.1560 - accuracy: 0.9875 - val_loss: 0.8764 - val_accuracy: 0.8000\n",
      "Epoch 61/80\n",
      "3/3 [==============================] - 1s 218ms/step - loss: 0.1456 - accuracy: 0.9875 - val_loss: 0.8467 - val_accuracy: 0.8000\n",
      "Epoch 62/80\n",
      "3/3 [==============================] - 1s 217ms/step - loss: 0.1399 - accuracy: 0.9875 - val_loss: 0.8300 - val_accuracy: 0.8000\n",
      "Epoch 63/80\n",
      "3/3 [==============================] - 1s 228ms/step - loss: 0.1250 - accuracy: 1.0000 - val_loss: 0.8205 - val_accuracy: 0.8000\n",
      "Epoch 64/80\n",
      "3/3 [==============================] - 1s 227ms/step - loss: 0.1372 - accuracy: 0.9875 - val_loss: 0.8027 - val_accuracy: 0.8000\n",
      "Epoch 65/80\n",
      "3/3 [==============================] - 1s 239ms/step - loss: 0.1645 - accuracy: 0.9875 - val_loss: 0.7758 - val_accuracy: 0.8500\n",
      "Epoch 66/80\n",
      "3/3 [==============================] - 1s 218ms/step - loss: 0.1224 - accuracy: 1.0000 - val_loss: 0.7586 - val_accuracy: 0.8500\n",
      "Epoch 67/80\n",
      "3/3 [==============================] - 1s 219ms/step - loss: 0.1152 - accuracy: 1.0000 - val_loss: 0.7491 - val_accuracy: 0.8500\n",
      "Epoch 68/80\n",
      "3/3 [==============================] - 1s 216ms/step - loss: 0.1065 - accuracy: 1.0000 - val_loss: 0.7395 - val_accuracy: 0.8500\n",
      "Epoch 69/80\n",
      "3/3 [==============================] - 1s 218ms/step - loss: 0.1431 - accuracy: 0.9875 - val_loss: 0.7439 - val_accuracy: 0.8500\n",
      "Epoch 70/80\n",
      "3/3 [==============================] - 1s 227ms/step - loss: 0.1516 - accuracy: 0.9875 - val_loss: 0.7375 - val_accuracy: 0.8500\n",
      "Epoch 71/80\n",
      "3/3 [==============================] - 1s 216ms/step - loss: 0.1291 - accuracy: 1.0000 - val_loss: 0.7051 - val_accuracy: 0.8500\n",
      "Epoch 72/80\n",
      "3/3 [==============================] - 1s 220ms/step - loss: 0.1226 - accuracy: 1.0000 - val_loss: 0.6699 - val_accuracy: 0.8500\n",
      "Epoch 73/80\n",
      "3/3 [==============================] - 1s 223ms/step - loss: 0.1337 - accuracy: 0.9875 - val_loss: 0.6442 - val_accuracy: 0.9000\n",
      "Epoch 74/80\n",
      "3/3 [==============================] - 1s 215ms/step - loss: 0.1171 - accuracy: 1.0000 - val_loss: 0.6133 - val_accuracy: 0.9500\n",
      "Epoch 75/80\n",
      "3/3 [==============================] - 1s 215ms/step - loss: 0.1083 - accuracy: 1.0000 - val_loss: 0.5867 - val_accuracy: 1.0000\n",
      "Epoch 76/80\n",
      "3/3 [==============================] - 1s 220ms/step - loss: 0.1131 - accuracy: 1.0000 - val_loss: 0.5620 - val_accuracy: 1.0000\n",
      "Epoch 77/80\n",
      "3/3 [==============================] - 1s 239ms/step - loss: 0.1253 - accuracy: 1.0000 - val_loss: 0.5400 - val_accuracy: 1.0000\n",
      "Epoch 78/80\n",
      "3/3 [==============================] - 1s 234ms/step - loss: 0.1245 - accuracy: 1.0000 - val_loss: 0.5254 - val_accuracy: 1.0000\n",
      "Epoch 79/80\n",
      "3/3 [==============================] - 1s 224ms/step - loss: 0.1401 - accuracy: 0.9875 - val_loss: 0.5106 - val_accuracy: 1.0000\n",
      "Epoch 80/80\n",
      "3/3 [==============================] - 1s 223ms/step - loss: 0.1207 - accuracy: 1.0000 - val_loss: 0.4977 - val_accuracy: 1.0000\n",
      "1/1 [==============================] - 0s 35ms/step - loss: 0.4415 - accuracy: 0.9167\n",
      "Test error: 0.4414548873901367, test acc: 0.9166666865348816\n"
     ]
    }
   ],
   "source": [
    "X_train, X_validation, X_test, y_train, y_validation, y_test = get_data_splits(librosa_signals, mfcconly=False)\n",
    "\n",
    "input_shape = (X_train.shape[1], X_train.shape[2], X_train.shape[3])\n",
    "\n",
    "model = build_tf_model(input_shape, LR, len(labelEncoder.classes_))\n",
    "\n",
    "model.fit(X_train, y_train, epochs=EPOCHS, batch_size=BATCH_SIZE, validation_data=(X_validation,y_validation))\n",
    "\n",
    "test_err, test_acc = model.evaluate(X_test, y_test)\n",
    "print(f\"Test error: {test_err}, test acc: {test_acc}\")\n",
    "\n",
    "# model.save()"
   ]
  },
  {
   "cell_type": "code",
   "execution_count": 34,
   "metadata": {},
   "outputs": [],
   "source": [
    "model.save(\"cnn_librosa_91.h5\")"
   ]
  },
  {
   "cell_type": "markdown",
   "metadata": {},
   "source": [
    "# Knn librosa"
   ]
  },
  {
   "cell_type": "code",
   "execution_count": 67,
   "metadata": {},
   "outputs": [],
   "source": [
    "\n",
    "#load data from pickles\n",
    "librosa_signals = unpickle(\"librosa_signals.pickle\")\n",
    "labelEncoder = unpickle(\"labelEncoder.pickle\")\n"
   ]
  },
  {
   "cell_type": "code",
   "execution_count": 37,
   "metadata": {},
   "outputs": [
    {
     "data": {
      "text/plain": [
       "[]"
      ]
     },
     "execution_count": 37,
     "metadata": {},
     "output_type": "execute_result"
    }
   ],
   "source": []
  },
  {
   "cell_type": "code",
   "execution_count": 73,
   "metadata": {},
   "outputs": [],
   "source": [
    "def getSpkData():\n",
    "    X = []\n",
    "    speakerData = dict()\n",
    "    for element in librosa_signals:\n",
    "        trackEncodings = np.concatenate((element[\"mfccs\"], element[\"delta\"], element[\"delta2\"])).T\n",
    "        if element[\"encodedLabel\"] in list(speakerData.keys()):\n",
    "            speakerData[element[\"encodedLabel\"]] = np.vstack((speakerData[element[\"encodedLabel\"]], trackEncodings))\n",
    "        else:\n",
    "            speakerData[element[\"encodedLabel\"]] = trackEncodings\n",
    "            \n",
    "    return speakerData"
   ]
  },
  {
   "cell_type": "code",
   "execution_count": 76,
   "metadata": {},
   "outputs": [
    {
     "data": {
      "text/plain": [
       "(2320, 39)"
      ]
     },
     "execution_count": 76,
     "metadata": {},
     "output_type": "execute_result"
    }
   ],
   "source": [
    "data[6].shape"
   ]
  },
  {
   "cell_type": "code",
   "execution_count": 99,
   "metadata": {},
   "outputs": [],
   "source": [
    "X = [element for element in data.values()]"
   ]
  },
  {
   "cell_type": "code",
   "execution_count": 97,
   "metadata": {},
   "outputs": [
    {
     "data": {
      "text/plain": [
       "11"
      ]
     },
     "execution_count": 97,
     "metadata": {},
     "output_type": "execute_result"
    }
   ],
   "source": [
    "len()"
   ]
  },
  {
   "cell_type": "code",
   "execution_count": 86,
   "metadata": {},
   "outputs": [],
   "source": [
    "y = [element for element in list(data.keys())]"
   ]
  },
  {
   "cell_type": "code",
   "execution_count": 90,
   "metadata": {},
   "outputs": [],
   "source": [
    "X_train, X_test, y_train, y_test = train_test_split(X,y, test_size=0.2)"
   ]
  },
  {
   "cell_type": "code",
   "execution_count": 92,
   "metadata": {},
   "outputs": [],
   "source": [
    "from sklearn.neighbors import KNeighborsClassifier"
   ]
  },
  {
   "cell_type": "code",
   "execution_count": 94,
   "metadata": {},
   "outputs": [
    {
     "name": "stderr",
     "output_type": "stream",
     "text": [
      "/usr/local/lib/python3.8/dist-packages/sklearn/utils/validation.py:598: VisibleDeprecationWarning: Creating an ndarray from ragged nested sequences (which is a list-or-tuple of lists-or-tuples-or ndarrays with different lengths or shapes) is deprecated. If you meant to do this, you must specify 'dtype=object' when creating the ndarray.\n",
      "  array = np.asarray(array, order=order, dtype=dtype)\n"
     ]
    },
    {
     "ename": "ValueError",
     "evalue": "Expected 2D array, got 1D array instead:\narray=[array([[-433.55999758,   28.21585382,   21.16017777, ...,   -2.8878411 ,\n           -0.89592522,   -2.2099711 ],\n        [-221.60884322,   45.5208647 ,  -18.62908575, ...,   -2.8878411 ,\n           -0.89592522,   -2.2099711 ],\n        [ -82.53987707,   76.35240808,  -32.15127597, ...,   -2.8878411 ,\n           -0.89592522,   -2.2099711 ],\n        ...,\n        [-589.51316059,    0.        ,    0.        , ...,    0.        ,\n            0.        ,    0.        ],\n        [-589.51316059,    0.        ,    0.        , ...,    0.        ,\n            0.        ,    0.        ],\n        [-589.51316059,    0.        ,    0.        , ...,    0.        ,\n            0.        ,    0.        ]])\n array([[-4.18559345e+02,  4.77489625e+01,  2.86784434e+01, ...,\n         -1.99636177e+00,  8.93695464e-02, -8.92843034e-01],\n        [-4.07122823e+02,  2.14647093e+01,  2.26821090e+01, ...,\n         -1.99636177e+00,  8.93695464e-02, -8.92843034e-01],\n        [-2.52808410e+02,  2.54899537e+01, -1.67601242e+01, ...,\n         -1.99636177e+00,  8.93695464e-02, -8.92843034e-01],\n        ...,\n        [-6.97343337e+02,  0.00000000e+00,  0.00000000e+00, ...,\n          0.00000000e+00,  0.00000000e+00,  0.00000000e+00],\n        [-6.97343337e+02,  0.00000000e+00,  0.00000000e+00, ...,\n          0.00000000e+00,  0.00000000e+00,  0.00000000e+00],\n        [-6.97343337e+02,  0.00000000e+00,  0.00000000e+00, ...,\n          0.00000000e+00,  0.00000000e+00,  0.00000000e+00]])\n array([[-426.6466052 ,   65.69189919,    7.90904327, ...,   -1.61796658,\n           -1.08917951,   -1.81951096],\n        [-398.29111336,   64.05284218,    7.43452564, ...,   -1.61796658,\n           -1.08917951,   -1.81951096],\n        [-405.23589674,   58.41241889,   12.64890014, ...,   -1.61796658,\n           -1.08917951,   -1.81951096],\n        ...,\n        [-554.71577178,    0.        ,    0.        , ...,    0.        ,\n            0.        ,    0.        ],\n        [-554.71577178,    0.        ,    0.        , ...,    0.        ,\n            0.        ,    0.        ],\n        [-554.71577178,    0.        ,    0.        , ...,    0.        ,\n            0.        ,    0.        ]])\n array([[-3.78765802e+02,  9.15331726e+01,  5.47000340e+00, ...,\n          6.72488097e-01, -1.26334669e+00, -1.42998430e+00],\n        [-3.72600730e+02,  8.75588358e+01,  5.83768535e+00, ...,\n          6.72488097e-01, -1.26334669e+00, -1.42998430e+00],\n        [-3.84146161e+02,  8.15937326e+01,  2.07913623e+01, ...,\n          6.72488097e-01, -1.26334669e+00, -1.42998430e+00],\n        ...,\n        [-7.04561826e+02,  0.00000000e+00,  0.00000000e+00, ...,\n          0.00000000e+00,  0.00000000e+00,  0.00000000e+00],\n        [-7.04561826e+02,  0.00000000e+00,  0.00000000e+00, ...,\n          0.00000000e+00,  0.00000000e+00,  0.00000000e+00],\n        [-7.04561826e+02,  0.00000000e+00,  0.00000000e+00, ...,\n          0.00000000e+00,  0.00000000e+00,  0.00000000e+00]])\n array([[-438.562056  ,    6.72683815,   -4.10764499, ...,   -0.74477192,\n           -1.83644352,   -1.12161538],\n        [-374.42538421,   43.08770338,   -6.30584792, ...,   -0.74477192,\n           -1.83644352,   -1.12161538],\n        [-248.54562179,   72.15934818,  -14.76521421, ...,   -0.74477192,\n           -1.83644352,   -1.12161538],\n        ...,\n        [-663.92006151,    0.        ,    0.        , ...,    0.        ,\n            0.        ,    0.        ],\n        [-663.92006151,    0.        ,    0.        , ...,    0.        ,\n            0.        ,    0.        ],\n        [-663.92006151,    0.        ,    0.        , ...,    0.        ,\n            0.        ,    0.        ]])\n array([[-460.40021707,   15.06397539,   31.1264421 , ...,   -1.27616605,\n            1.48804038,   -1.30483057],\n        [-426.11724616,   10.81968483,   28.69611107, ...,   -1.27616605,\n            1.48804038,   -1.30483057],\n        [-423.10581582,    5.99483255,   25.40627481, ...,   -1.27616605,\n            1.48804038,   -1.30483057],\n        ...,\n        [-706.63431055,    0.        ,    0.        , ...,    0.        ,\n            0.        ,    0.        ],\n        [-706.63431055,    0.        ,    0.        , ...,    0.        ,\n            0.        ,    0.        ],\n        [-706.63431055,    0.        ,    0.        , ...,    0.        ,\n            0.        ,    0.        ]])\n array([[-1.85399021e+02,  4.07218782e+01,  1.45835423e+01, ...,\n         -2.41090553e-01,  2.15243201e-01,  1.03584545e+00],\n        [-1.07306736e+02,  5.56760529e+01,  3.09679146e+01, ...,\n         -2.41090553e-01,  2.15243201e-01,  1.03584545e+00],\n        [-1.12639203e+02,  7.64117978e+01,  4.80880705e+01, ...,\n         -2.41090553e-01,  2.15243201e-01,  1.03584545e+00],\n        ...,\n        [-6.29880849e+02,  0.00000000e+00,  0.00000000e+00, ...,\n          0.00000000e+00,  0.00000000e+00,  0.00000000e+00],\n        [-6.29880849e+02,  0.00000000e+00,  0.00000000e+00, ...,\n          0.00000000e+00,  0.00000000e+00,  0.00000000e+00],\n        [-6.29880849e+02,  0.00000000e+00,  0.00000000e+00, ...,\n          0.00000000e+00,  0.00000000e+00,  0.00000000e+00]])\n array([[-3.64901958e+02,  7.68217629e+01,  1.82499550e+01, ...,\n          6.38915286e-01,  5.00163610e-01, -1.67396517e-03],\n        [-2.70713274e+02,  4.47117390e+01, -1.53750049e+01, ...,\n          6.38915286e-01,  5.00163610e-01, -1.67396517e-03],\n        [-2.13351208e+02,  8.41428735e+01,  3.42067573e+00, ...,\n          6.38915286e-01,  5.00163610e-01, -1.67396517e-03],\n        ...,\n        [-6.51630757e+02,  0.00000000e+00,  0.00000000e+00, ...,\n          0.00000000e+00,  0.00000000e+00,  0.00000000e+00],\n        [-6.51630757e+02,  0.00000000e+00,  0.00000000e+00, ...,\n          0.00000000e+00,  0.00000000e+00,  0.00000000e+00],\n        [-6.51630757e+02,  0.00000000e+00,  0.00000000e+00, ...,\n          0.00000000e+00,  0.00000000e+00,  0.00000000e+00]])   ].\nReshape your data either using array.reshape(-1, 1) if your data has a single feature or array.reshape(1, -1) if it contains a single sample.",
     "output_type": "error",
     "traceback": [
      "\u001b[0;31m---------------------------------------------------------------------------\u001b[0m",
      "\u001b[0;31mValueError\u001b[0m                                Traceback (most recent call last)",
      "\u001b[0;32m<ipython-input-94-cb68cb1c8d87>\u001b[0m in \u001b[0;36m<module>\u001b[0;34m\u001b[0m\n\u001b[1;32m      1\u001b[0m \u001b[0mneigh\u001b[0m \u001b[0;34m=\u001b[0m \u001b[0mKNeighborsClassifier\u001b[0m\u001b[0;34m(\u001b[0m\u001b[0mn_neighbors\u001b[0m\u001b[0;34m=\u001b[0m\u001b[0;36m3\u001b[0m\u001b[0;34m)\u001b[0m\u001b[0;34m\u001b[0m\u001b[0;34m\u001b[0m\u001b[0m\n\u001b[0;32m----> 2\u001b[0;31m \u001b[0mneigh\u001b[0m\u001b[0;34m.\u001b[0m\u001b[0mfit\u001b[0m\u001b[0;34m(\u001b[0m\u001b[0mX_train\u001b[0m\u001b[0;34m,\u001b[0m \u001b[0my_train\u001b[0m\u001b[0;34m)\u001b[0m\u001b[0;34m\u001b[0m\u001b[0;34m\u001b[0m\u001b[0m\n\u001b[0m",
      "\u001b[0;32m/usr/local/lib/python3.8/dist-packages/sklearn/neighbors/_base.py\u001b[0m in \u001b[0;36mfit\u001b[0;34m(self, X, y)\u001b[0m\n\u001b[1;32m   1129\u001b[0m         \"\"\"\n\u001b[1;32m   1130\u001b[0m         \u001b[0;32mif\u001b[0m \u001b[0;32mnot\u001b[0m \u001b[0misinstance\u001b[0m\u001b[0;34m(\u001b[0m\u001b[0mX\u001b[0m\u001b[0;34m,\u001b[0m \u001b[0;34m(\u001b[0m\u001b[0mKDTree\u001b[0m\u001b[0;34m,\u001b[0m \u001b[0mBallTree\u001b[0m\u001b[0;34m)\u001b[0m\u001b[0;34m)\u001b[0m\u001b[0;34m:\u001b[0m\u001b[0;34m\u001b[0m\u001b[0;34m\u001b[0m\u001b[0m\n\u001b[0;32m-> 1131\u001b[0;31m             X, y = self._validate_data(X, y, accept_sparse=\"csr\",\n\u001b[0m\u001b[1;32m   1132\u001b[0m                                        multi_output=True)\n\u001b[1;32m   1133\u001b[0m \u001b[0;34m\u001b[0m\u001b[0m\n",
      "\u001b[0;32m/usr/local/lib/python3.8/dist-packages/sklearn/base.py\u001b[0m in \u001b[0;36m_validate_data\u001b[0;34m(self, X, y, reset, validate_separately, **check_params)\u001b[0m\n\u001b[1;32m    430\u001b[0m                 \u001b[0my\u001b[0m \u001b[0;34m=\u001b[0m \u001b[0mcheck_array\u001b[0m\u001b[0;34m(\u001b[0m\u001b[0my\u001b[0m\u001b[0;34m,\u001b[0m \u001b[0;34m**\u001b[0m\u001b[0mcheck_y_params\u001b[0m\u001b[0;34m)\u001b[0m\u001b[0;34m\u001b[0m\u001b[0;34m\u001b[0m\u001b[0m\n\u001b[1;32m    431\u001b[0m             \u001b[0;32melse\u001b[0m\u001b[0;34m:\u001b[0m\u001b[0;34m\u001b[0m\u001b[0;34m\u001b[0m\u001b[0m\n\u001b[0;32m--> 432\u001b[0;31m                 \u001b[0mX\u001b[0m\u001b[0;34m,\u001b[0m \u001b[0my\u001b[0m \u001b[0;34m=\u001b[0m \u001b[0mcheck_X_y\u001b[0m\u001b[0;34m(\u001b[0m\u001b[0mX\u001b[0m\u001b[0;34m,\u001b[0m \u001b[0my\u001b[0m\u001b[0;34m,\u001b[0m \u001b[0;34m**\u001b[0m\u001b[0mcheck_params\u001b[0m\u001b[0;34m)\u001b[0m\u001b[0;34m\u001b[0m\u001b[0;34m\u001b[0m\u001b[0m\n\u001b[0m\u001b[1;32m    433\u001b[0m             \u001b[0mout\u001b[0m \u001b[0;34m=\u001b[0m \u001b[0mX\u001b[0m\u001b[0;34m,\u001b[0m \u001b[0my\u001b[0m\u001b[0;34m\u001b[0m\u001b[0;34m\u001b[0m\u001b[0m\n\u001b[1;32m    434\u001b[0m \u001b[0;34m\u001b[0m\u001b[0m\n",
      "\u001b[0;32m/usr/local/lib/python3.8/dist-packages/sklearn/utils/validation.py\u001b[0m in \u001b[0;36minner_f\u001b[0;34m(*args, **kwargs)\u001b[0m\n\u001b[1;32m     70\u001b[0m                           FutureWarning)\n\u001b[1;32m     71\u001b[0m         \u001b[0mkwargs\u001b[0m\u001b[0;34m.\u001b[0m\u001b[0mupdate\u001b[0m\u001b[0;34m(\u001b[0m\u001b[0;34m{\u001b[0m\u001b[0mk\u001b[0m\u001b[0;34m:\u001b[0m \u001b[0marg\u001b[0m \u001b[0;32mfor\u001b[0m \u001b[0mk\u001b[0m\u001b[0;34m,\u001b[0m \u001b[0marg\u001b[0m \u001b[0;32min\u001b[0m \u001b[0mzip\u001b[0m\u001b[0;34m(\u001b[0m\u001b[0msig\u001b[0m\u001b[0;34m.\u001b[0m\u001b[0mparameters\u001b[0m\u001b[0;34m,\u001b[0m \u001b[0margs\u001b[0m\u001b[0;34m)\u001b[0m\u001b[0;34m}\u001b[0m\u001b[0;34m)\u001b[0m\u001b[0;34m\u001b[0m\u001b[0;34m\u001b[0m\u001b[0m\n\u001b[0;32m---> 72\u001b[0;31m         \u001b[0;32mreturn\u001b[0m \u001b[0mf\u001b[0m\u001b[0;34m(\u001b[0m\u001b[0;34m**\u001b[0m\u001b[0mkwargs\u001b[0m\u001b[0;34m)\u001b[0m\u001b[0;34m\u001b[0m\u001b[0;34m\u001b[0m\u001b[0m\n\u001b[0m\u001b[1;32m     73\u001b[0m     \u001b[0;32mreturn\u001b[0m \u001b[0minner_f\u001b[0m\u001b[0;34m\u001b[0m\u001b[0;34m\u001b[0m\u001b[0m\n\u001b[1;32m     74\u001b[0m \u001b[0;34m\u001b[0m\u001b[0m\n",
      "\u001b[0;32m/usr/local/lib/python3.8/dist-packages/sklearn/utils/validation.py\u001b[0m in \u001b[0;36mcheck_X_y\u001b[0;34m(X, y, accept_sparse, accept_large_sparse, dtype, order, copy, force_all_finite, ensure_2d, allow_nd, multi_output, ensure_min_samples, ensure_min_features, y_numeric, estimator)\u001b[0m\n\u001b[1;32m    793\u001b[0m         \u001b[0;32mraise\u001b[0m \u001b[0mValueError\u001b[0m\u001b[0;34m(\u001b[0m\u001b[0;34m\"y cannot be None\"\u001b[0m\u001b[0;34m)\u001b[0m\u001b[0;34m\u001b[0m\u001b[0;34m\u001b[0m\u001b[0m\n\u001b[1;32m    794\u001b[0m \u001b[0;34m\u001b[0m\u001b[0m\n\u001b[0;32m--> 795\u001b[0;31m     X = check_array(X, accept_sparse=accept_sparse,\n\u001b[0m\u001b[1;32m    796\u001b[0m                     \u001b[0maccept_large_sparse\u001b[0m\u001b[0;34m=\u001b[0m\u001b[0maccept_large_sparse\u001b[0m\u001b[0;34m,\u001b[0m\u001b[0;34m\u001b[0m\u001b[0;34m\u001b[0m\u001b[0m\n\u001b[1;32m    797\u001b[0m                     \u001b[0mdtype\u001b[0m\u001b[0;34m=\u001b[0m\u001b[0mdtype\u001b[0m\u001b[0;34m,\u001b[0m \u001b[0morder\u001b[0m\u001b[0;34m=\u001b[0m\u001b[0morder\u001b[0m\u001b[0;34m,\u001b[0m \u001b[0mcopy\u001b[0m\u001b[0;34m=\u001b[0m\u001b[0mcopy\u001b[0m\u001b[0;34m,\u001b[0m\u001b[0;34m\u001b[0m\u001b[0;34m\u001b[0m\u001b[0m\n",
      "\u001b[0;32m/usr/local/lib/python3.8/dist-packages/sklearn/utils/validation.py\u001b[0m in \u001b[0;36minner_f\u001b[0;34m(*args, **kwargs)\u001b[0m\n\u001b[1;32m     70\u001b[0m                           FutureWarning)\n\u001b[1;32m     71\u001b[0m         \u001b[0mkwargs\u001b[0m\u001b[0;34m.\u001b[0m\u001b[0mupdate\u001b[0m\u001b[0;34m(\u001b[0m\u001b[0;34m{\u001b[0m\u001b[0mk\u001b[0m\u001b[0;34m:\u001b[0m \u001b[0marg\u001b[0m \u001b[0;32mfor\u001b[0m \u001b[0mk\u001b[0m\u001b[0;34m,\u001b[0m \u001b[0marg\u001b[0m \u001b[0;32min\u001b[0m \u001b[0mzip\u001b[0m\u001b[0;34m(\u001b[0m\u001b[0msig\u001b[0m\u001b[0;34m.\u001b[0m\u001b[0mparameters\u001b[0m\u001b[0;34m,\u001b[0m \u001b[0margs\u001b[0m\u001b[0;34m)\u001b[0m\u001b[0;34m}\u001b[0m\u001b[0;34m)\u001b[0m\u001b[0;34m\u001b[0m\u001b[0;34m\u001b[0m\u001b[0m\n\u001b[0;32m---> 72\u001b[0;31m         \u001b[0;32mreturn\u001b[0m \u001b[0mf\u001b[0m\u001b[0;34m(\u001b[0m\u001b[0;34m**\u001b[0m\u001b[0mkwargs\u001b[0m\u001b[0;34m)\u001b[0m\u001b[0;34m\u001b[0m\u001b[0;34m\u001b[0m\u001b[0m\n\u001b[0m\u001b[1;32m     73\u001b[0m     \u001b[0;32mreturn\u001b[0m \u001b[0minner_f\u001b[0m\u001b[0;34m\u001b[0m\u001b[0;34m\u001b[0m\u001b[0m\n\u001b[1;32m     74\u001b[0m \u001b[0;34m\u001b[0m\u001b[0m\n",
      "\u001b[0;32m/usr/local/lib/python3.8/dist-packages/sklearn/utils/validation.py\u001b[0m in \u001b[0;36mcheck_array\u001b[0;34m(array, accept_sparse, accept_large_sparse, dtype, order, copy, force_all_finite, ensure_2d, allow_nd, ensure_min_samples, ensure_min_features, estimator)\u001b[0m\n\u001b[1;32m    617\u001b[0m             \u001b[0;31m# If input is 1D raise error\u001b[0m\u001b[0;34m\u001b[0m\u001b[0;34m\u001b[0m\u001b[0;34m\u001b[0m\u001b[0m\n\u001b[1;32m    618\u001b[0m             \u001b[0;32mif\u001b[0m \u001b[0marray\u001b[0m\u001b[0;34m.\u001b[0m\u001b[0mndim\u001b[0m \u001b[0;34m==\u001b[0m \u001b[0;36m1\u001b[0m\u001b[0;34m:\u001b[0m\u001b[0;34m\u001b[0m\u001b[0;34m\u001b[0m\u001b[0m\n\u001b[0;32m--> 619\u001b[0;31m                 raise ValueError(\n\u001b[0m\u001b[1;32m    620\u001b[0m                     \u001b[0;34m\"Expected 2D array, got 1D array instead:\\narray={}.\\n\"\u001b[0m\u001b[0;34m\u001b[0m\u001b[0;34m\u001b[0m\u001b[0m\n\u001b[1;32m    621\u001b[0m                     \u001b[0;34m\"Reshape your data either using array.reshape(-1, 1) if \"\u001b[0m\u001b[0;34m\u001b[0m\u001b[0;34m\u001b[0m\u001b[0m\n",
      "\u001b[0;31mValueError\u001b[0m: Expected 2D array, got 1D array instead:\narray=[array([[-433.55999758,   28.21585382,   21.16017777, ...,   -2.8878411 ,\n           -0.89592522,   -2.2099711 ],\n        [-221.60884322,   45.5208647 ,  -18.62908575, ...,   -2.8878411 ,\n           -0.89592522,   -2.2099711 ],\n        [ -82.53987707,   76.35240808,  -32.15127597, ...,   -2.8878411 ,\n           -0.89592522,   -2.2099711 ],\n        ...,\n        [-589.51316059,    0.        ,    0.        , ...,    0.        ,\n            0.        ,    0.        ],\n        [-589.51316059,    0.        ,    0.        , ...,    0.        ,\n            0.        ,    0.        ],\n        [-589.51316059,    0.        ,    0.        , ...,    0.        ,\n            0.        ,    0.        ]])\n array([[-4.18559345e+02,  4.77489625e+01,  2.86784434e+01, ...,\n         -1.99636177e+00,  8.93695464e-02, -8.92843034e-01],\n        [-4.07122823e+02,  2.14647093e+01,  2.26821090e+01, ...,\n         -1.99636177e+00,  8.93695464e-02, -8.92843034e-01],\n        [-2.52808410e+02,  2.54899537e+01, -1.67601242e+01, ...,\n         -1.99636177e+00,  8.93695464e-02, -8.92843034e-01],\n        ...,\n        [-6.97343337e+02,  0.00000000e+00,  0.00000000e+00, ...,\n          0.00000000e+00,  0.00000000e+00,  0.00000000e+00],\n        [-6.97343337e+02,  0.00000000e+00,  0.00000000e+00, ...,\n          0.00000000e+00,  0.00000000e+00,  0.00000000e+00],\n        [-6.97343337e+02,  0.00000000e+00,  0.00000000e+00, ...,\n          0.00000000e+00,  0.00000000e+00,  0.00000000e+00]])\n array([[-426.6466052 ,   65.69189919,    7.90904327, ...,   -1.61796658,\n           -1.08917951,   -1.81951096],\n        [-398.29111336,   64.05284218,    7.43452564, ...,   -1.61796658,\n           -1.08917951,   -1.81951096],\n        [-405.23589674,   58.41241889,   12.64890014, ...,   -1.61796658,\n           -1.08917951,   -1.81951096],\n        ...,\n        [-554.71577178,    0.        ,    0.        , ...,    0.        ,\n            0.        ,    0.        ],\n        [-554.71577178,    0.        ,    0.        , ...,    0.        ,\n            0.        ,    0.        ],\n        [-554.71577178,    0.        ,    0.        , ...,    0.        ,\n            0.        ,    0.        ]])\n array([[-3.78765802e+02,  9.15331726e+01,  5.47000340e+00, ...,\n          6.72488097e-01, -1.26334669e+00, -1.42998430e+00],\n        [-3.72600730e+02,  8.75588358e+01,  5.83768535e+00, ...,\n          6.72488097e-01, -1.26334669e+00, -1.42998430e+00],\n        [-3.84146161e+02,  8.15937326e+01,  2.07913623e+01, ...,\n          6.72488097e-01, -1.26334669e+00, -1.42998430e+00],\n        ...,\n        [-7.04561826e+02,  0.00000000e+00,  0.00000000e+00, ...,\n          0.00000000e+00,  0.00000000e+00,  0.00000000e+00],\n        [-7.04561826e+02,  0.00000000e+00,  0.00000000e+00, ...,\n          0.00000000e+00,  0.00000000e+00,  0.00000000e+00],\n        [-7.04561826e+02,  0.00000000e+00,  0.00000000e+00, ...,\n          0.00000000e+00,  0.00000000e+00,  0.00000000e+00]])\n array([[-438.562056  ,    6.72683815,   -4.10764499, ...,   -0.74477192,\n           -1.83644352,   -1.12161538],\n        [-374.42538421,   43.08770338,   -6.30584792, ...,   -0.74477192,\n           -1.83644352,   -1.12161538],\n        [-248.54562179,   72.15934818,  -14.76521421, ...,   -0.74477192,\n           -1.83644352,   -1.12161538],\n        ...,\n        [-663.92006151,    0.        ,    0.        , ...,    0.        ,\n            0.        ,    0.        ],\n        [-663.92006151,    0.        ,    0.        , ...,    0.        ,\n            0.        ,    0.        ],\n        [-663.92006151,    0.        ,    0.        , ...,    0.        ,\n            0.        ,    0.        ]])\n array([[-460.40021707,   15.06397539,   31.1264421 , ...,   -1.27616605,\n            1.48804038,   -1.30483057],\n        [-426.11724616,   10.81968483,   28.69611107, ...,   -1.27616605,\n            1.48804038,   -1.30483057],\n        [-423.10581582,    5.99483255,   25.40627481, ...,   -1.27616605,\n            1.48804038,   -1.30483057],\n        ...,\n        [-706.63431055,    0.        ,    0.        , ...,    0.        ,\n            0.        ,    0.        ],\n        [-706.63431055,    0.        ,    0.        , ...,    0.        ,\n            0.        ,    0.        ],\n        [-706.63431055,    0.        ,    0.        , ...,    0.        ,\n            0.        ,    0.        ]])\n array([[-1.85399021e+02,  4.07218782e+01,  1.45835423e+01, ...,\n         -2.41090553e-01,  2.15243201e-01,  1.03584545e+00],\n        [-1.07306736e+02,  5.56760529e+01,  3.09679146e+01, ...,\n         -2.41090553e-01,  2.15243201e-01,  1.03584545e+00],\n        [-1.12639203e+02,  7.64117978e+01,  4.80880705e+01, ...,\n         -2.41090553e-01,  2.15243201e-01,  1.03584545e+00],\n        ...,\n        [-6.29880849e+02,  0.00000000e+00,  0.00000000e+00, ...,\n          0.00000000e+00,  0.00000000e+00,  0.00000000e+00],\n        [-6.29880849e+02,  0.00000000e+00,  0.00000000e+00, ...,\n          0.00000000e+00,  0.00000000e+00,  0.00000000e+00],\n        [-6.29880849e+02,  0.00000000e+00,  0.00000000e+00, ...,\n          0.00000000e+00,  0.00000000e+00,  0.00000000e+00]])\n array([[-3.64901958e+02,  7.68217629e+01,  1.82499550e+01, ...,\n          6.38915286e-01,  5.00163610e-01, -1.67396517e-03],\n        [-2.70713274e+02,  4.47117390e+01, -1.53750049e+01, ...,\n          6.38915286e-01,  5.00163610e-01, -1.67396517e-03],\n        [-2.13351208e+02,  8.41428735e+01,  3.42067573e+00, ...,\n          6.38915286e-01,  5.00163610e-01, -1.67396517e-03],\n        ...,\n        [-6.51630757e+02,  0.00000000e+00,  0.00000000e+00, ...,\n          0.00000000e+00,  0.00000000e+00,  0.00000000e+00],\n        [-6.51630757e+02,  0.00000000e+00,  0.00000000e+00, ...,\n          0.00000000e+00,  0.00000000e+00,  0.00000000e+00],\n        [-6.51630757e+02,  0.00000000e+00,  0.00000000e+00, ...,\n          0.00000000e+00,  0.00000000e+00,  0.00000000e+00]])   ].\nReshape your data either using array.reshape(-1, 1) if your data has a single feature or array.reshape(1, -1) if it contains a single sample."
     ]
    }
   ],
   "source": [
    "neigh = KNeighborsClassifier(n_neighbors=3)\n",
    "neigh.fit(X_train, y_train)"
   ]
  }
 ],
 "metadata": {
  "kernelspec": {
   "display_name": "Python 3",
   "language": "python",
   "name": "python3"
  },
  "language_info": {
   "codemirror_mode": {
    "name": "ipython",
    "version": 3
   },
   "file_extension": ".py",
   "mimetype": "text/x-python",
   "name": "python",
   "nbconvert_exporter": "python",
   "pygments_lexer": "ipython3",
   "version": "3.8.10"
  }
 },
 "nbformat": 4,
 "nbformat_minor": 4
}
