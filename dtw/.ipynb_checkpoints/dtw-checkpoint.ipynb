{
 "cells": [
  {
   "cell_type": "markdown",
   "metadata": {},
   "source": [
    "# Prepare data\n",
    "---------------------\n",
    "No to już wszystko mam zrobione więc łatwo"
   ]
  },
  {
   "cell_type": "code",
   "execution_count": 1,
   "metadata": {},
   "outputs": [],
   "source": [
    "from signalutils.signalutils import readFiles, encodedLabels, calcMfccs, export_to_pickle, unpickle\n",
    "import scipy"
   ]
  },
  {
   "cell_type": "code",
   "execution_count": 2,
   "metadata": {},
   "outputs": [],
   "source": [
    "signals, labelEncoder = encodedLabels(readFiles(path=\"../samples\"))"
   ]
  },
  {
   "cell_type": "code",
   "execution_count": 3,
   "metadata": {},
   "outputs": [],
   "source": [
    "signals = calcMfccs(signals, window=scipy.signal.windows.boxcar, n_fft=512, hop_length=256, win_length=512, n_mfcc=13)"
   ]
  },
  {
   "cell_type": "code",
   "execution_count": 66,
   "metadata": {},
   "outputs": [
    {
     "data": {
      "image/png": "[encoded data removed]",
      "text/plain": [
       "<Figure size 432x288 with 2 Axes>"
      ]
     },
     "metadata": {
      "needs_background": "light"
     },
     "output_type": "display_data"
    }
   ],
   "source": [
    "import numpy as np\n",
    "import matplotlib.pyplot as plt\n",
    "\n",
    "fig, ax1 = plt.subplots()\n",
    "t = np.arange(0.01, 10.0, 0.01)\n",
    "\n",
    "s1 = np.exp(t)\n",
    "ax1.plot(t, s1, 'b')\n",
    "ax1.set_xlabel('Współczynnik')\n",
    "\n",
    "ax2 = ax1.twinx()\n",
    "\n",
    "plt.show()"
   ]
  },
  {
   "cell_type": "code",
   "execution_count": 65,
   "metadata": {},
   "outputs": [
    {
     "data": {
      "text/plain": [
       "123"
      ]
     },
     "execution_count": 65,
     "metadata": {},
     "output_type": "execute_result"
    }
   ],
   "source": [
    "len(signals[0][\"mfccs\"][0])"
   ]
  },
  {
   "cell_type": "code",
   "execution_count": 4,
   "metadata": {},
   "outputs": [],
   "source": [
    "for signal in signals:\n",
    "    signal['name'] = signal['name'].split(\".\")[0]"
   ]
  },
  {
   "cell_type": "markdown",
   "metadata": {},
   "source": [
    "# Calc DTWs\n",
    "---------------"
   ]
  },
  {
   "cell_type": "markdown",
   "metadata": {},
   "source": [
    "Źródła: \n",
    "- https://www.youtube.com/watch?v=ERKDHZyZDwA&list=PLmZlBIcArwhMJoGk5zpiRlkaHUqy5dLzL&index=1\n",
    "- https://www.researchgate.net/publication/260762671_Speech_recognition_using_MFCC_and_DTW\n",
    "- https://stackoverflow.com/questions/48267199/comparing-mfcc-feature-vectors-with-dtw"
   ]
  },
  {
   "cell_type": "markdown",
   "metadata": {},
   "source": [
    "Input: lista 112 nagrań zawierających informacje:"
   ]
  },
  {
   "cell_type": "code",
   "execution_count": 24,
   "metadata": {},
   "outputs": [
    {
     "data": {
      "text/plain": [
       "dict_keys(['name', 'signal', 'sr', 'label', 'encodedLabel', 'mfccs', 'delta', 'delta2'])"
      ]
     },
     "execution_count": 24,
     "metadata": {},
     "output_type": "execute_result"
    }
   ],
   "source": [
    "signals[0].keys()"
   ]
  },
  {
   "cell_type": "markdown",
   "metadata": {},
   "source": [
    "## Approach 1 - DTW z macierzy MFCC\n",
    "\n",
    "Jak liczymy MFCC z nagrania to zawsze dostajemy macierz o wymiarach (X,N) gdzie X - liczba okien, N - liczba współczynników. I trochę pojawia się problem, bo nie da się policzyć DTW z dwóch macierzy. Rozwiązaniem jest wykonanie innej operacji, która obliczy nam odległości pomiędzy pomiędzy wektorami (gdzie wektor to wartości współczynników w jednej chwili\\oknie) i potem wynik tego obliczenia będzie już jedną macierzą, na której można od razu robić DTW.\n",
    "\n",
    "Generalnie sprawa wygląda tak, że najpierw liczy się odległości pomiędzy wektorami z użyciem istniejących funkcji, czy to odległość euklidesowa, dot product czy inne takie i mamy już macierz na której możemy liczyć DTW.\n",
    "\n",
    "Opcji do obliczania odległości mamy dużo https://docs.scipy.org/doc/scipy/reference/spatial.distance.html"
   ]
  },
  {
   "cell_type": "markdown",
   "metadata": {},
   "source": [
    "no generalnie prościej się nie dało, jest libka która robi dokładnie to:\n",
    "\n",
    "https://github.com/pollen-robotics/dtw"
   ]
  },
  {
   "cell_type": "code",
   "execution_count": 5,
   "metadata": {},
   "outputs": [],
   "source": [
    "from dtw import accelerated_dtw\n",
    "import scipy\n",
    "from tqdm.notebook import tqdm\n",
    "import sys"
   ]
  },
  {
   "cell_type": "code",
   "execution_count": 4,
   "metadata": {},
   "outputs": [],
   "source": [
    "#eksperymenty z crossvalidation tutaj"
   ]
  },
  {
   "cell_type": "code",
   "execution_count": 6,
   "metadata": {},
   "outputs": [],
   "source": [
    "import collections\n"
   ]
  },
  {
   "cell_type": "code",
   "execution_count": 7,
   "metadata": {},
   "outputs": [
    {
     "name": "stdout",
     "output_type": "stream",
     "text": [
      "leastRecords: ('AM', 9)\n",
      "speakers: ['AM' 'AP' 'AS' 'BG' 'CD' 'MJ' 'PP' 'TC' 'WK' 'WM' 'ZB']\n",
      "Number of samples so that everyone has an even number of recordings: 99\n"
     ]
    }
   ],
   "source": [
    "#najmniej nagrań ma Arek\n",
    "leastRecords = collections.Counter(list(map(lambda x: x['name'][:2], signals))).most_common()[-1]\n",
    "print(f\"leastRecords: {leastRecords}\")\n",
    "print(f\"speakers: {labelEncoder.classes_}\")\n",
    "print(f\"Number of samples so that everyone has an even number of recordings: {leastRecords[1] * len(labelEncoder.classes_)}\")"
   ]
  },
  {
   "cell_type": "code",
   "execution_count": 8,
   "metadata": {},
   "outputs": [],
   "source": [
    "#Obetnij dodatkowe nagrania tak, żeby wszyscy mieli po 9, bo Arek ma tylko 9 a żeby po równo było do kroswalidacji\n",
    "evenSignals = []\n",
    "for label in labelEncoder.classes_:\n",
    "    speakerSignals = list(filter(lambda x: x['label']==label,signals))\n",
    "    evenSignals = evenSignals + (speakerSignals[:leastRecords[1]])"
   ]
  },
  {
   "cell_type": "code",
   "execution_count": 60,
   "metadata": {},
   "outputs": [
    {
     "data": {
      "text/plain": [
       "99"
      ]
     },
     "execution_count": 60,
     "metadata": {},
     "output_type": "execute_result"
    }
   ],
   "source": []
  },
  {
   "cell_type": "code",
   "execution_count": 5,
   "metadata": {},
   "outputs": [],
   "source": [
    "#eksperymenty z crossvalidation kończą się tutaj"
   ]
  },
  {
   "cell_type": "code",
   "execution_count": 38,
   "metadata": {},
   "outputs": [
    {
     "data": {
      "application/vnd.jupyter.widget-view+json": {
       "model_id": "e826b757d85e4ccabf1c6fae1ffd61e5",
       "version_major": 2,
       "version_minor": 0
      },
      "text/plain": [
       "  0%|          | 0/2 [00:00<?, ?it/s]"
      ]
     },
     "metadata": {},
     "output_type": "display_data"
    },
    {
     "data": {
      "application/vnd.jupyter.widget-view+json": {
       "model_id": "8019feb3d6da44ada3b32dc96bc6389b",
       "version_major": 2,
       "version_minor": 0
      },
      "text/plain": [
       "  0%|          | 0/2 [00:00<?, ?it/s]"
      ]
     },
     "metadata": {},
     "output_type": "display_data"
    },
    {
     "name": "stdout",
     "output_type": "stream",
     "text": [
      "2\n"
     ]
    },
    {
     "data": {
      "application/vnd.jupyter.widget-view+json": {
       "model_id": "1678838b254b4a4984af8e6a9c9413a1",
       "version_major": 2,
       "version_minor": 0
      },
      "text/plain": [
       "  0%|          | 0/2 [00:00<?, ?it/s]"
      ]
     },
     "metadata": {},
     "output_type": "display_data"
    },
    {
     "name": "stdout",
     "output_type": "stream",
     "text": [
      "2\n"
     ]
    }
   ],
   "source": [
    "for entry_x in tqdm(signals):\n",
    "    calculatedData=[]\n",
    "    for entry_y in tqdm(signals):\n",
    "        cost, cost_matrix, acc_cost_matrix, path = accelerated_dtw(entry_x['mfccs'].T, entry_y['mfccs'].T, scipy.spatial.distance.cosine)\n",
    "        data = {\n",
    "            \"x\": entry_x['name'],\n",
    "            \"y\": entry_y['name'],\n",
    "            \"cost\": cost,\n",
    "            \"cost_matrix\": \"cost_matrix\",\n",
    "            \"acc_cost_matrix\": acc_cost_matrix,\n",
    "            \"path\":path\n",
    "        }\n",
    "        calculatedData.append(data)\n",
    "    "
   ]
  },
  {
   "cell_type": "code",
   "execution_count": 24,
   "metadata": {},
   "outputs": [
    {
     "data": {
      "text/plain": [
       "dict_keys(['x', 'y', 'cost', 'cost_matrix', 'acc_cost_matrix', 'path'])"
      ]
     },
     "execution_count": 24,
     "metadata": {},
     "output_type": "execute_result"
    }
   ],
   "source": [
    "amwk.keys()"
   ]
  },
  {
   "cell_type": "code",
   "execution_count": 36,
   "metadata": {},
   "outputs": [
    {
     "data": {
      "image/png": "[encoded data removed]",
      "text/plain": [
       "<Figure size 432x288 with 1 Axes>"
      ]
     },
     "metadata": {
      "needs_background": "light"
     },
     "output_type": "display_data"
    }
   ],
   "source": [
    "def plotCost(dtwData):\n",
    "    import matplotlib.pyplot as plt\n",
    "    plt.imshow(dtwData['acc_cost_matrix'].T, origin='lower', cmap='gray', interpolation='nearest')\n",
    "    plt.plot(calculatedData['path'][0],calculatedData['path'][1], 'w')\n",
    "    plt.show()"
   ]
  },
  {
   "cell_type": "code",
   "execution_count": 17,
   "metadata": {},
   "outputs": [],
   "source": [
    "#save data in dicts:    \"AM1\":{\"AM1\":0, \"AM2:\"3\",...},\"PP\":{\"AM1\":20, ...}...\n",
    "import os\n",
    "results = dict()\n",
    "for path, subdirs, files in os.walk(\"data\"):\n",
    "        for name in files:\n",
    "            buffer = unpickle(\"data/\"+name)\n",
    "            for idx, element in enumerate(buffer):\n",
    "                if idx == 0:\n",
    "                    results[element['x']] = dict()\n",
    "                results[element['x']][element['y']] = element"
   ]
  },
  {
   "cell_type": "code",
   "execution_count": 22,
   "metadata": {},
   "outputs": [],
   "source": [
    "amwk = results['AM3']['WK_01']"
   ]
  },
  {
   "cell_type": "code",
   "execution_count": null,
   "metadata": {},
   "outputs": [],
   "source": []
  },
  {
   "cell_type": "markdown",
   "metadata": {},
   "source": [
    "# Approach 2 - Uśrednienie MFCC\n",
    "\n",
    "Pomysł z drugim podejściem jest podobny do zadania pierwszego, gdzie liczymy jedno MFCC z całej wypowiedzi:\n",
    "1. Policz mfcc z okienkami\n",
    "2. Oblicz średnie wartości MFCC ze wszystkich okien\n",
    "3. Oblicz DTW na tych średnich MFCC"
   ]
  }
 ],
 "metadata": {
  "kernelspec": {
   "display_name": "Python 3",
   "language": "python",
   "name": "python3"
  },
  "language_info": {
   "codemirror_mode": {
    "name": "ipython",
    "version": 3
   },
   "file_extension": ".py",
   "mimetype": "text/x-python",
   "name": "python",
   "nbconvert_exporter": "python",
   "pygments_lexer": "ipython3",
   "version": "3.8.10"
  }
 },
 "nbformat": 4,
 "nbformat_minor": 4
}
