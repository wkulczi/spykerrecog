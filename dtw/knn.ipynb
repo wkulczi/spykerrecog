{
 "cells": [
  {
   "cell_type": "code",
   "execution_count": 6,
   "metadata": {},
   "outputs": [],
   "source": [
    "from signalutils.signalutils import readFiles, encodedLabels, calcMfccs, export_to_pickle, unpickle\n",
    "import scipy\n",
    "import librosa"
   ]
  },
  {
   "cell_type": "code",
   "execution_count": 3,
   "metadata": {},
   "outputs": [],
   "source": [
    "signals, labelEncoder = encodedLabels(readFiles(path=\"../samples\"))"
   ]
  },
  {
   "cell_type": "markdown",
   "metadata": {},
   "source": [
    "### Podejście pierwsze - jedno okno"
   ]
  },
  {
   "cell_type": "code",
   "execution_count": null,
   "metadata": {},
   "outputs": [],
   "source": [
    "for signal in signals:\n",
    "    signal[\"mfccs\"] = librosa.feature.mfcc(y=signal[\"signal\"], n_mfcc=13, sr=1600,\n",
    "                                          window=scipy.signal.windows.boxcar,\n",
    "                                          n_fft = len(signal[\"signal\"])+256,\n",
    "                                          hop_length = len(signal[\"signal\"])+256,\n",
    "                                          win_length = len(signal[\"signal\"])+256)"
   ]
  },
  {
   "cell_type": "code",
   "execution_count": 118,
   "metadata": {},
   "outputs": [
    {
     "data": {
      "image/png": "[encoded data removed]",
      "text/plain": [
       "<Figure size 432x288 with 1 Axes>"
      ]
     },
     "metadata": {
      "needs_background": "light"
     },
     "output_type": "display_data"
    }
   ],
   "source": [
    "import matplotlib.pyplot as plt\n",
    " \n",
    "fig = plt.figure()\n",
    "ax = fig.add_subplot(111)\n",
    "\n",
    "\n",
    "x =[1,2,3,4,5,6,7,8,9,10,11,12,13]\n",
    " \n",
    "y = signals[90][\"mfccs\"]\n",
    "plt.plot(x, y, c =\"blue\")\n",
    "plt.scatter(x, y, c =\"blue\")\n",
    "\n",
    "for i,v in enumerate(y):\n",
    "    ax.text(i, v, \"%d\" %v, ha=\"center\", va=\"top\")\n",
    "# To show the plot\n",
    "plt.ylim(-50,300)\n",
    "plt.xlim(-1, 15)\n",
    "plt.show()"
   ]
  }
 ],
 "metadata": {
  "kernelspec": {
   "display_name": "Python 3",
   "language": "python",
   "name": "python3"
  },
  "language_info": {
   "codemirror_mode": {
    "name": "ipython",
    "version": 3
   },
   "file_extension": ".py",
   "mimetype": "text/x-python",
   "name": "python",
   "nbconvert_exporter": "python",
   "pygments_lexer": "ipython3",
   "version": "3.8.10"
  }
 },
 "nbformat": 4,
 "nbformat_minor": 4
}
