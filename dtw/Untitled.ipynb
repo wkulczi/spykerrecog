{
 "cells": [
  {
   "cell_type": "markdown",
   "metadata": {
    "tags": []
   },
   "source": [
    "# Prepare data\n",
    "---------------------\n",
    "No to już wszystko mam zrobione więc łatwo"
   ]
  },
  {
   "cell_type": "code",
   "execution_count": 5,
   "metadata": {},
   "outputs": [],
   "source": [
    "from signalutils.signalutils import readFiles, encodedLabels, calcMfccs, export_to_pickle, unpickle\n",
    "import scipy"
   ]
  },
  {
   "cell_type": "code",
   "execution_count": 6,
   "metadata": {},
   "outputs": [],
   "source": [
    "signals, labelEncoder = encodedLabels(readFiles(path=\"../samples\"))"
   ]
  },
  {
   "cell_type": "code",
   "execution_count": 7,
   "metadata": {},
   "outputs": [],
   "source": [
    "signals = calcMfccs(signals, window=scipy.signal.windows.boxcar, n_fft=512, hop_length=256, win_length=512, n_mfcc=13)"
   ]
  },
  {
   "cell_type": "code",
   "execution_count": 5,
   "metadata": {},
   "outputs": [],
   "source": [
    "#wyrzuć \".wav\" z nazwy\n",
    "for signal in signals:\n",
    "    signal['name'] = signal['name'].split('.')[0]"
   ]
  },
  {
   "cell_type": "markdown",
   "metadata": {},
   "source": [
    "# Calc DTWs\n",
    "---------------"
   ]
  },
  {
   "cell_type": "markdown",
   "metadata": {},
   "source": [
    "Źródła: \n",
    "- https://www.youtube.com/watch?v=ERKDHZyZDwA&list=PLmZlBIcArwhMJoGk5zpiRlkaHUqy5dLzL&index=1\n",
    "- https://www.researchgate.net/publication/260762671_Speech_recognition_using_MFCC_and_DTW\n",
    "- https://stackoverflow.com/questions/48267199/comparing-mfcc-feature-vectors-with-dtw"
   ]
  },
  {
   "cell_type": "markdown",
   "metadata": {},
   "source": [
    "Input: lista 112 nagrań zawierających informacje:"
   ]
  },
  {
   "cell_type": "code",
   "execution_count": 8,
   "metadata": {},
   "outputs": [
    {
     "data": {
      "text/plain": [
       "dict_keys(['name', 'signal', 'sr', 'label', 'encodedLabel', 'mfccs', 'delta', 'delta2'])"
      ]
     },
     "execution_count": 8,
     "metadata": {},
     "output_type": "execute_result"
    }
   ],
   "source": [
    "signals[0].keys()"
   ]
  },
  {
   "cell_type": "markdown",
   "metadata": {},
   "source": [
    "## Approach 1 - DTW z macierzy MFCC\n",
    "\n",
    "Jak liczymy MFCC z nagrania to zawsze dostajemy macierz o wymiarach (X,N) gdzie X - liczba okien, N - liczba współczynników. I trochę pojawia się problem, bo nie da się policzyć DTW z dwóch macierzy. Rozwiązaniem jest wykonanie innej operacji, która obliczy nam odległości pomiędzy pomiędzy wektorami (gdzie wektor to wartości współczynników w jednej chwili\\oknie) i potem wynik tego obliczenia będzie już jedną macierzą, na której można od razu robić DTW.\n",
    "\n",
    "Generalnie sprawa wygląda tak, że najpierw liczy się odległości pomiędzy wektorami z użyciem istniejących funkcji, czy to odległość euklidesowa, dot product czy inne takie i mamy już macierz na której możemy liczyć DTW.\n",
    "\n",
    "Opcji do obliczania odległości mamy dużo https://docs.scipy.org/doc/scipy/reference/spatial.distance.html"
   ]
  },
  {
   "cell_type": "markdown",
   "metadata": {},
   "source": [
    "no generalnie prościej się nie dało, jest libka która robi dokładnie to:\n",
    "\n",
    "https://github.com/pollen-robotics/dtw"
   ]
  },
  {
   "cell_type": "code",
   "execution_count": 11,
   "metadata": {},
   "outputs": [],
   "source": [
    "from dtw import accelerated_dtw\n",
    "import scipy\n",
    "from tqdm.notebook import tqdm\n",
    "import sys"
   ]
  },
  {
   "cell_type": "code",
   "execution_count": null,
   "metadata": {},
   "outputs": [],
   "source": [
    "unpickle('data/AM1.pickle')"
   ]
  },
  {
   "cell_type": "code",
   "execution_count": 38,
   "metadata": {},
   "outputs": [
    {
     "data": {
      "application/vnd.jupyter.widget-view+json": {
       "model_id": "e826b757d85e4ccabf1c6fae1ffd61e5",
       "version_major": 2,
       "version_minor": 0
      },
      "text/plain": [
       "  0%|          | 0/2 [00:00<?, ?it/s]"
      ]
     },
     "metadata": {},
     "output_type": "display_data"
    },
    {
     "data": {
      "application/vnd.jupyter.widget-view+json": {
       "model_id": "8019feb3d6da44ada3b32dc96bc6389b",
       "version_major": 2,
       "version_minor": 0
      },
      "text/plain": [
       "  0%|          | 0/2 [00:00<?, ?it/s]"
      ]
     },
     "metadata": {},
     "output_type": "display_data"
    },
    {
     "name": "stdout",
     "output_type": "stream",
     "text": [
      "2\n"
     ]
    },
    {
     "data": {
      "application/vnd.jupyter.widget-view+json": {
       "model_id": "1678838b254b4a4984af8e6a9c9413a1",
       "version_major": 2,
       "version_minor": 0
      },
      "text/plain": [
       "  0%|          | 0/2 [00:00<?, ?it/s]"
      ]
     },
     "metadata": {},
     "output_type": "display_data"
    },
    {
     "name": "stdout",
     "output_type": "stream",
     "text": [
      "2\n"
     ]
    }
   ],
   "source": [
    "for entry_x in tqdm(signals):\n",
    "    calculatedData=[]\n",
    "    for entry_y in tqdm(signals):\n",
    "        cost, cost_matrix, acc_cost_matrix, path = accelerated_dtw(entry_x['mfccs'].T, entry_y['mfccs'].T, scipy.spatial.distance.cosine)\n",
    "        data = {\n",
    "            \"x\": entry_x['name'],\n",
    "            \"y\": entry_y['name'],\n",
    "            \"cost\": cost,\n",
    "            \"cost_matrix\": \"cost_matrix\",\n",
    "            \"acc_cost_matrix\": acc_cost_matrix,\n",
    "            \"path\":path\n",
    "        }\n",
    "        calculatedData.append(data)\n",
    "    "
   ]
  },
  {
   "cell_type": "code",
   "execution_count": 36,
   "metadata": {},
   "outputs": [
    {
     "data": {
      "image/png": "[encoded data removed]",
      "text/plain": [
       "<Figure size 432x288 with 1 Axes>"
      ]
     },
     "metadata": {
      "needs_background": "light"
     },
     "output_type": "display_data"
    }
   ],
   "source": [
    "import matplotlib.pyplot as plt\n",
    "plt.imshow(calculatedData[1]['value'][2].T, origin='lower', cmap='gray', interpolation='nearest')\n",
    "plt.plot(calculatedData[1]['value'][3][0],calculatedData[1]['value'][3][1], 'w')\n",
    "plt.show()"
   ]
  },
  {
   "cell_type": "code",
   "execution_count": 32,
   "metadata": {},
   "outputs": [
    {
     "data": {
      "image/png": "[encoded data removed]",
      "text/plain": [
       "<Figure size 432x288 with 1 Axes>"
      ]
     },
     "metadata": {
      "needs_background": "light"
     },
     "output_type": "display_data"
    }
   ],
   "source": [
    "import matplotlib.pyplot as plt\n",
    "plt.imshow(calculatedData[1]['value'][2].T, origin='lower', cmap='gray', interpolation='nearest')\n",
    "plt.plot(calculatedData[1]['value'][3][0],'w')\n",
    "plt.plot(calculatedData[1]['value'][3][1],'r')\n",
    "plt.show()"
   ]
  },
  {
   "cell_type": "code",
   "execution_count": null,
   "metadata": {},
   "outputs": [],
   "source": [
    "for entry_x in tqdm(signals):\n",
    "    for entry_y in tqdm(signals):\n",
    "        data = {\n",
    "            \"x\": entry_x['name'],\n",
    "            \"y\": entry_y['name'],\n",
    "            \"value\": accelerated_dtw(entry_x['mfccs'].T, entry_y['mfccs'].T, scipy.spatial.distance.cosine)\n",
    "        }\n",
    "        calculatedData.append(data)"
   ]
  },
  {
   "cell_type": "code",
   "execution_count": 155,
   "metadata": {},
   "outputs": [
    {
     "name": "stdout",
     "output_type": "stream",
     "text": [
      "calcdtw.py  signalutils  test.pickle  Untitled.ipynb\n"
     ]
    }
   ],
   "source": [
    "!ls"
   ]
  },
  {
   "cell_type": "code",
   "execution_count": 161,
   "metadata": {},
   "outputs": [
    {
     "ename": "UnpicklingError",
     "evalue": "pickle data was truncated",
     "output_type": "error",
     "traceback": [
      "\u001b[0;31m---------------------------------------------------------------------------\u001b[0m",
      "\u001b[0;31mUnpicklingError\u001b[0m                           Traceback (most recent call last)",
      "\u001b[0;32m<ipython-input-161-d73429103ee2>\u001b[0m in \u001b[0;36m<module>\u001b[0;34m\u001b[0m\n\u001b[0;32m----> 1\u001b[0;31m \u001b[0mdata\u001b[0m \u001b[0;34m=\u001b[0m \u001b[0munpickle\u001b[0m\u001b[0;34m(\u001b[0m\u001b[0;34m'test.pickle'\u001b[0m\u001b[0;34m)\u001b[0m\u001b[0;34m\u001b[0m\u001b[0;34m\u001b[0m\u001b[0m\n\u001b[0m",
      "\u001b[0;32m~/projects/pythonMfcc/dtw/signalutils/signalutils.py\u001b[0m in \u001b[0;36munpickle\u001b[0;34m(filename)\u001b[0m\n\u001b[1;32m     81\u001b[0m     \u001b[0;32mwith\u001b[0m \u001b[0mopen\u001b[0m\u001b[0;34m(\u001b[0m\u001b[0mfilename\u001b[0m\u001b[0;34m,\u001b[0m \u001b[0;34m'rb'\u001b[0m\u001b[0;34m)\u001b[0m \u001b[0;32mas\u001b[0m \u001b[0mfp\u001b[0m\u001b[0;34m:\u001b[0m\u001b[0;34m\u001b[0m\u001b[0;34m\u001b[0m\u001b[0m\n\u001b[1;32m     82\u001b[0m         \u001b[0mbanana\u001b[0m \u001b[0;34m=\u001b[0m \u001b[0mpickle\u001b[0m\u001b[0;34m.\u001b[0m\u001b[0mload\u001b[0m\u001b[0;34m(\u001b[0m\u001b[0mfp\u001b[0m\u001b[0;34m)\u001b[0m\u001b[0;34m\u001b[0m\u001b[0;34m\u001b[0m\u001b[0m\n\u001b[0;32m---> 83\u001b[0;31m     \u001b[0;32mreturn\u001b[0m \u001b[0mbanana\u001b[0m\u001b[0;34m\u001b[0m\u001b[0;34m\u001b[0m\u001b[0m\n\u001b[0m\u001b[1;32m     84\u001b[0m \u001b[0;34m\u001b[0m\u001b[0m\n\u001b[1;32m     85\u001b[0m \u001b[0;32mdef\u001b[0m \u001b[0mtest\u001b[0m\u001b[0;34m(\u001b[0m\u001b[0;34m)\u001b[0m\u001b[0;34m:\u001b[0m\u001b[0;34m\u001b[0m\u001b[0;34m\u001b[0m\u001b[0m\n",
      "\u001b[0;31mUnpicklingError\u001b[0m: pickle data was truncated"
     ]
    }
   ],
   "source": [
    "data = unpickle('test.pickle')"
   ]
  },
  {
   "cell_type": "code",
   "execution_count": 177,
   "metadata": {},
   "outputs": [
    {
     "data": {
      "text/plain": [
       "(5.615706137577116,\n",
       " array([[0.00291379, 0.00104734, 0.00227926, ..., 0.00785538, 0.02826402,\n",
       "         0.02120502],\n",
       "        [0.0016875 , 0.00088117, 0.00125075, ..., 0.00913643, 0.03393736,\n",
       "         0.02340392],\n",
       "        [0.00611327, 0.00310601, 0.00530015, ..., 0.00884869, 0.02859153,\n",
       "         0.02135541],\n",
       "        ...,\n",
       "        [0.00703451, 0.00481343, 0.00612349, ..., 0.00735805, 0.02778952,\n",
       "         0.01884281],\n",
       "        [0.0071785 , 0.0049113 , 0.00596807, ..., 0.00598864, 0.02476755,\n",
       "         0.01557615],\n",
       "        [0.00315308, 0.00325603, 0.00211299, ..., 0.00724682, 0.03154012,\n",
       "         0.01788256]]),\n",
       " array([[2.91379122e-03, 3.96113582e-03, 6.24039107e-03, ...,\n",
       "         1.03385241e+01, 1.03667881e+01, 1.03879931e+01],\n",
       "        [4.60129138e-03, 3.79496295e-03, 5.04571111e-03, ...,\n",
       "         1.00678248e+01, 1.01017622e+01, 1.01251661e+01],\n",
       "        [1.07145644e-02, 6.90097361e-03, 9.09511358e-03, ...,\n",
       "         1.00061087e+01, 1.00347003e+01, 1.00560557e+01],\n",
       "        ...,\n",
       "        [1.04508413e+01, 1.03466139e+01, 1.03159935e+01, ...,\n",
       "         5.57659390e+00, 5.60393055e+00, 5.62277336e+00],\n",
       "        [1.04580198e+01, 1.03515252e+01, 1.03219615e+01, ...,\n",
       "         5.57305603e+00, 5.59782358e+00, 5.61339973e+00],\n",
       "        [1.04611729e+01, 1.03547813e+01, 1.03240745e+01, ...,\n",
       "         5.57431421e+00, 5.60459615e+00, 5.61570614e+00]]),\n",
       " (array([  0,   1,   1,   1,   1,   2,   3,   4,   4,   5,   6,   7,   8,\n",
       "           9,  10,  11,  12,  13,  14,  15,  16,  16,  16,  16,  16,  16,\n",
       "          17,  18,  19,  20,  20,  20,  20,  21,  21,  22,  23,  24,  25,\n",
       "          26,  27,  28,  29,  30,  31,  31,  32,  32,  32,  32,  33,  34,\n",
       "          35,  36,  37,  38,  38,  38,  38,  39,  39,  39,  40,  41,  42,\n",
       "          43,  44,  45,  46,  47,  47,  47,  48,  49,  49,  50,  50,  51,\n",
       "          52,  53,  54,  55,  55,  55,  55,  56,  56,  56,  56,  56,  56,\n",
       "          56,  57,  58,  59,  59,  59,  59,  59,  59,  60,  61,  62,  63,\n",
       "          64,  65,  65,  66,  67,  68,  69,  70,  71,  72,  73,  74,  75,\n",
       "          76,  76,  77,  78,  79,  80,  81,  82,  83,  84,  85,  86,  87,\n",
       "          88,  89,  90,  91,  92,  93,  94,  95,  95,  95,  95,  96,  97,\n",
       "          98,  99, 100, 101, 102, 102, 103, 104, 105, 106, 106, 106, 107,\n",
       "         108, 109, 110, 111, 112, 113, 114, 115, 116, 117, 118, 119, 120,\n",
       "         121, 121, 121, 121, 121, 122]),\n",
       "  array([  0,   1,   2,   3,   4,   5,   6,   7,   8,   9,   9,   9,  10,\n",
       "          11,  11,  11,  11,  11,  11,  11,  12,  13,  14,  15,  16,  17,\n",
       "          18,  19,  19,  20,  21,  22,  23,  24,  25,  26,  27,  28,  29,\n",
       "          30,  31,  32,  32,  32,  33,  34,  35,  36,  37,  38,  39,  40,\n",
       "          41,  42,  43,  44,  45,  46,  47,  48,  49,  50,  51,  52,  53,\n",
       "          53,  53,  54,  55,  56,  57,  58,  59,  60,  61,  62,  63,  64,\n",
       "          65,  66,  67,  68,  69,  70,  71,  72,  73,  74,  75,  76,  77,\n",
       "          78,  79,  80,  81,  82,  83,  84,  85,  86,  87,  87,  88,  89,\n",
       "          90,  91,  92,  93,  94,  95,  96,  97,  98,  99, 100, 101, 102,\n",
       "         103, 104, 105, 106, 107, 108, 108, 109, 110, 111, 112, 113, 114,\n",
       "         115, 116, 117, 118, 119, 120, 121, 122, 123, 124, 125, 126, 127,\n",
       "         127, 128, 129, 130, 131, 132, 133, 134, 135, 136, 137, 138, 139,\n",
       "         140, 141, 141, 141, 141, 141, 142, 143, 144, 145, 146, 147, 148,\n",
       "         149, 150, 151, 152, 153, 154])))"
      ]
     },
     "execution_count": 177,
     "metadata": {},
     "output_type": "execute_result"
    }
   ],
   "source": [
    "data['value']"
   ]
  },
  {
   "cell_type": "markdown",
   "metadata": {},
   "source": [
    "# Approach 2 - Uśrednienie MFCC\n",
    "\n",
    "Pomysł z drugim podejściem jest podobny do zadania pierwszego, gdzie liczymy jedno MFCC z całej wypowiedzi:\n",
    "1. Policz mfcc z okienkami\n",
    "2. Oblicz średnie wartości MFCC ze wszystkich okien\n",
    "3. Oblicz DTW na tych średnich MFCC"
   ]
  }
 ],
 "metadata": {
  "kernelspec": {
   "display_name": "Python 3",
   "language": "python",
   "name": "python3"
  },
  "language_info": {
   "codemirror_mode": {
    "name": "ipython",
    "version": 3
   },
   "file_extension": ".py",
   "mimetype": "text/x-python",
   "name": "python",
   "nbconvert_exporter": "python",
   "pygments_lexer": "ipython3",
   "version": "3.8.10"
  }
 },
 "nbformat": 4,
 "nbformat_minor": 4
}
